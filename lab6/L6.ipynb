{
 "cells": [
  {
   "cell_type": "code",
   "execution_count": 4,
   "id": "73c6509d",
   "metadata": {},
   "outputs": [],
   "source": [
    "import zipfile as zf\n",
    "files = zf.ZipFile(\"cars.zip\", 'r')\n",
    "files.extractall('')\n",
    "files.close()"
   ]
  },
  {
   "cell_type": "code",
   "execution_count": 5,
   "id": "bf9a7243",
   "metadata": {},
   "outputs": [],
   "source": [
    "import zipfile as zf\n",
    "files = zf.ZipFile(\"notcars.zip\", 'r')\n",
    "files.extractall('')\n",
    "files.close()"
   ]
  },
  {
   "cell_type": "code",
   "execution_count": 2,
   "id": "62d28f1f",
   "metadata": {},
   "outputs": [
    {
     "name": "stdout",
     "output_type": "stream",
     "text": [
      "Requirement already satisfied: keras in c:\\users\\vadim\\anaconda3\\lib\\site-packages (3.3.3)\n",
      "Requirement already satisfied: absl-py in c:\\users\\vadim\\anaconda3\\lib\\site-packages (from keras) (2.1.0)\n",
      "Requirement already satisfied: numpy in c:\\users\\vadim\\anaconda3\\lib\\site-packages (from keras) (1.26.4)\n",
      "Requirement already satisfied: rich in c:\\users\\vadim\\anaconda3\\lib\\site-packages (from keras) (13.7.1)\n",
      "Requirement already satisfied: namex in c:\\users\\vadim\\anaconda3\\lib\\site-packages (from keras) (0.0.8)\n",
      "Requirement already satisfied: h5py in c:\\users\\vadim\\anaconda3\\lib\\site-packages (from keras) (3.11.0)\n",
      "Requirement already satisfied: optree in c:\\users\\vadim\\anaconda3\\lib\\site-packages (from keras) (0.11.0)\n",
      "Requirement already satisfied: ml-dtypes in c:\\users\\vadim\\anaconda3\\lib\\site-packages (from keras) (0.3.2)\n",
      "Requirement already satisfied: typing-extensions>=4.0.0 in c:\\users\\vadim\\anaconda3\\lib\\site-packages (from optree->keras) (4.1.1)\n",
      "Requirement already satisfied: markdown-it-py>=2.2.0 in c:\\users\\vadim\\anaconda3\\lib\\site-packages (from rich->keras) (3.0.0)\n",
      "Requirement already satisfied: pygments<3.0.0,>=2.13.0 in c:\\users\\vadim\\anaconda3\\lib\\site-packages (from rich->keras) (2.18.0)\n",
      "Requirement already satisfied: mdurl~=0.1 in c:\\users\\vadim\\anaconda3\\lib\\site-packages (from markdown-it-py>=2.2.0->rich->keras) (0.1.2)\n",
      "Note: you may need to restart the kernel to use updated packages.\n"
     ]
    }
   ],
   "source": [
    "pip install keras --upgrade"
   ]
  },
  {
   "cell_type": "code",
   "execution_count": 2,
   "id": "daa2dfe2",
   "metadata": {},
   "outputs": [
    {
     "name": "stdout",
     "output_type": "stream",
     "text": [
      "Requirement already satisfied: optree in c:\\users\\vadim\\anaconda3\\lib\\site-packages (0.11.0)\n",
      "Requirement already satisfied: typing-extensions>=4.0.0 in c:\\users\\vadim\\anaconda3\\lib\\site-packages (from optree) (4.1.1)\n",
      "Note: you may need to restart the kernel to use updated packages.\n"
     ]
    }
   ],
   "source": [
    "pip install --upgrade optree"
   ]
  },
  {
   "cell_type": "code",
   "execution_count": 3,
   "id": "32a629d7",
   "metadata": {},
   "outputs": [
    {
     "name": "stdout",
     "output_type": "stream",
     "text": [
      "Requirement already satisfied: PyQt5 in c:\\users\\vadim\\appdata\\roaming\\python\\python39\\site-packages (5.15.10)\n",
      "Requirement already satisfied: PyQt5-sip<13,>=12.13 in c:\\users\\vadim\\anaconda3\\lib\\site-packages (from PyQt5) (12.13.0)\n",
      "Requirement already satisfied: PyQt5-Qt5>=5.15.2 in c:\\users\\vadim\\anaconda3\\lib\\site-packages (from PyQt5) (5.15.2)\n",
      "Note: you may need to restart the kernel to use updated packages.\n"
     ]
    }
   ],
   "source": [
    "pip install PyQt5 --user"
   ]
  },
  {
   "cell_type": "code",
   "execution_count": 4,
   "id": "55a8f95e",
   "metadata": {},
   "outputs": [
    {
     "name": "stdout",
     "output_type": "stream",
     "text": [
      "Requirement already satisfied: PyQtWebEngine in c:\\users\\vadim\\appdata\\roaming\\python\\python39\\site-packages (5.15.6)\n",
      "Requirement already satisfied: PyQt5-sip<13,>=12.11 in c:\\users\\vadim\\anaconda3\\lib\\site-packages (from PyQtWebEngine) (12.13.0)\n",
      "Requirement already satisfied: PyQtWebEngine-Qt5>=5.15.0 in c:\\users\\vadim\\appdata\\roaming\\python\\python39\\site-packages (from PyQtWebEngine) (5.15.2)\n",
      "Requirement already satisfied: PyQt5>=5.15.4 in c:\\users\\vadim\\appdata\\roaming\\python\\python39\\site-packages (from PyQtWebEngine) (5.15.10)\n",
      "Requirement already satisfied: PyQt5-Qt5>=5.15.2 in c:\\users\\vadim\\anaconda3\\lib\\site-packages (from PyQt5>=5.15.4->PyQtWebEngine) (5.15.2)\n",
      "Note: you may need to restart the kernel to use updated packages.\n"
     ]
    }
   ],
   "source": [
    "pip install PyQtWebEngine --user"
   ]
  },
  {
   "cell_type": "code",
   "execution_count": 1,
   "id": "9e651400",
   "metadata": {},
   "outputs": [
    {
     "name": "stderr",
     "output_type": "stream",
     "text": [
      "C:\\Users\\vadim\\anaconda3\\Lib\\site-packages\\keras\\src\\layers\\convolutional\\base_conv.py:107: UserWarning: Do not pass an `input_shape`/`input_dim` argument to a layer. When using Sequential models, prefer using an `Input(shape)` object as the first layer in the model instead.\n",
      "  super().__init__(activity_regularizer=activity_regularizer, **kwargs)\n"
     ]
    },
    {
     "name": "stdout",
     "output_type": "stream",
     "text": [
      "Epoch 1/10\n",
      "\u001b[1m91/91\u001b[0m \u001b[32m━━━━━━━━━━━━━━━━━━━━\u001b[0m\u001b[37m\u001b[0m \u001b[1m65s\u001b[0m 675ms/step - accuracy: 0.6968 - loss: 26.4869 - val_accuracy: 0.9199 - val_loss: 0.1520\n",
      "Epoch 2/10\n",
      "\u001b[1m91/91\u001b[0m \u001b[32m━━━━━━━━━━━━━━━━━━━━\u001b[0m\u001b[37m\u001b[0m \u001b[1m59s\u001b[0m 649ms/step - accuracy: 0.9658 - loss: 0.0997 - val_accuracy: 0.9820 - val_loss: 0.0548\n",
      "Epoch 3/10\n",
      "\u001b[1m91/91\u001b[0m \u001b[32m━━━━━━━━━━━━━━━━━━━━\u001b[0m\u001b[37m\u001b[0m \u001b[1m59s\u001b[0m 645ms/step - accuracy: 0.9788 - loss: 0.0499 - val_accuracy: 0.9876 - val_loss: 0.0314\n",
      "Epoch 4/10\n",
      "\u001b[1m91/91\u001b[0m \u001b[32m━━━━━━━━━━━━━━━━━━━━\u001b[0m\u001b[37m\u001b[0m \u001b[1m62s\u001b[0m 679ms/step - accuracy: 0.9904 - loss: 0.0246 - val_accuracy: 0.9862 - val_loss: 0.0451\n",
      "Epoch 5/10\n",
      "\u001b[1m91/91\u001b[0m \u001b[32m━━━━━━━━━━━━━━━━━━━━\u001b[0m\u001b[37m\u001b[0m \u001b[1m63s\u001b[0m 692ms/step - accuracy: 0.9918 - loss: 0.0206 - val_accuracy: 0.9903 - val_loss: 0.0318\n",
      "Epoch 6/10\n",
      "\u001b[1m91/91\u001b[0m \u001b[32m━━━━━━━━━━━━━━━━━━━━\u001b[0m\u001b[37m\u001b[0m \u001b[1m75s\u001b[0m 829ms/step - accuracy: 0.9971 - loss: 0.0155 - val_accuracy: 0.9917 - val_loss: 0.0195\n",
      "Epoch 7/10\n",
      "\u001b[1m91/91\u001b[0m \u001b[32m━━━━━━━━━━━━━━━━━━━━\u001b[0m\u001b[37m\u001b[0m \u001b[1m66s\u001b[0m 726ms/step - accuracy: 0.9986 - loss: 0.0082 - val_accuracy: 0.9945 - val_loss: 0.0164\n",
      "Epoch 8/10\n",
      "\u001b[1m91/91\u001b[0m \u001b[32m━━━━━━━━━━━━━━━━━━━━\u001b[0m\u001b[37m\u001b[0m \u001b[1m73s\u001b[0m 803ms/step - accuracy: 1.0000 - loss: 0.0027 - val_accuracy: 0.9931 - val_loss: 0.0247\n",
      "Epoch 9/10\n",
      "\u001b[1m91/91\u001b[0m \u001b[32m━━━━━━━━━━━━━━━━━━━━\u001b[0m\u001b[37m\u001b[0m \u001b[1m64s\u001b[0m 703ms/step - accuracy: 0.9999 - loss: 0.0012 - val_accuracy: 0.9779 - val_loss: 0.0735\n",
      "Epoch 10/10\n",
      "\u001b[1m91/91\u001b[0m \u001b[32m━━━━━━━━━━━━━━━━━━━━\u001b[0m\u001b[37m\u001b[0m \u001b[1m70s\u001b[0m 771ms/step - accuracy: 0.9945 - loss: 0.0175 - val_accuracy: 0.9834 - val_loss: 0.0566\n",
      "\u001b[1m23/23\u001b[0m \u001b[32m━━━━━━━━━━━━━━━━━━━━\u001b[0m\u001b[37m\u001b[0m \u001b[1m2s\u001b[0m 97ms/step - accuracy: 0.9820 - loss: 0.0421\n",
      "Точность на тестовой выборке: 98.34%\n"
     ]
    }
   ],
   "source": [
    "import os\n",
    "import cv2\n",
    "import numpy as np\n",
    "from sklearn.model_selection import train_test_split\n",
    "from keras.models import Sequential\n",
    "from keras.layers import Conv2D, MaxPooling2D, Flatten, Dense\n",
    "\n",
    "\n",
    "cars_path = 'cars'\n",
    "notcars_path = 'notcars'\n",
    "\n",
    "def load_images_from_folder(folder):\n",
    "    images = []\n",
    "    for filename in os.listdir(folder):\n",
    "        img = cv2.imread(os.path.join(folder,filename))\n",
    "        if img is not None:\n",
    "            img = cv2.resize(img, (128, 128))\n",
    "            images.append(img)\n",
    "    return images\n",
    "\n",
    "cars_images = load_images_from_folder(cars_path)\n",
    "notcars_images = load_images_from_folder(notcars_path)\n",
    "\n",
    "# Создание меток классов (1 - для изображений с автомобилями, 0 - для изображений без автомобилей)\n",
    "cars_labels = np.ones(len(cars_images))\n",
    "notcars_labels = np.zeros(len(notcars_images))\n",
    "\n",
    "# Объединение данных и меток\n",
    "X = np.array(cars_images + notcars_images)\n",
    "y = np.concatenate((cars_labels, notcars_labels))\n",
    "\n",
    "# Разделение данных на обучающую и тестовую выборки\n",
    "X_train, X_test, y_train, y_test = train_test_split(X, y, test_size=0.2, random_state=42)\n",
    "\n",
    "# Создание архитектуры нейронной сети\n",
    "model = Sequential()\n",
    "model.add(Conv2D(32, (3, 3), activation='relu', input_shape=(128, 128, 3)))\n",
    "model.add(MaxPooling2D((2, 2)))\n",
    "model.add(Conv2D(64, (3, 3), activation='relu'))\n",
    "model.add(MaxPooling2D((2, 2)))\n",
    "model.add(Conv2D(128, (3, 3), activation='relu'))\n",
    "model.add(MaxPooling2D((2, 2)))\n",
    "model.add(Flatten())\n",
    "model.add(Dense(128, activation='relu'))\n",
    "model.add(Dense(1, activation='sigmoid'))\n",
    "\n",
    "# Компиляция модели\n",
    "model.compile(optimizer='adam', loss='binary_crossentropy', metrics=['accuracy'])\n",
    "\n",
    "# Обучение модели\n",
    "model.fit(X_train, y_train, epochs=10, batch_size=32, validation_data=(X_test, y_test))\n",
    "\n",
    "# Оценка процента правильно угаданных образцов на тестовой выборке\n",
    "loss, accuracy = model.evaluate(X_test, y_test)\n",
    "print(\"Точность на тестовой выборке: {:.2f}%\".format(accuracy * 100))\n"
   ]
  },
  {
   "cell_type": "code",
   "execution_count": 37,
   "id": "c774e1a9",
   "metadata": {},
   "outputs": [
    {
     "name": "stderr",
     "output_type": "stream",
     "text": [
      "C:\\Users\\vadim\\AppData\\Local\\Temp\\ipykernel_9960\\2797388487.py:24: DeprecationWarning: Conversion of an array with ndim > 0 to a scalar is deprecated, and will error in future. Ensure you extract a single element from your array before performing this operation. (Deprecated NumPy 1.25.)\n",
      "  xgen=int(np.random.normal(center_x, stdx, 1))\n",
      "C:\\Users\\vadim\\AppData\\Local\\Temp\\ipykernel_9960\\2797388487.py:27: DeprecationWarning: Conversion of an array with ndim > 0 to a scalar is deprecated, and will error in future. Ensure you extract a single element from your array before performing this operation. (Deprecated NumPy 1.25.)\n",
      "  ygen=int(np.random.normal(center_y, stdy, 1))\n",
      "C:\\Users\\vadim\\anaconda3\\Lib\\site-packages\\keras\\src\\layers\\convolutional\\base_conv.py:107: UserWarning: Do not pass an `input_shape`/`input_dim` argument to a layer. When using Sequential models, prefer using an `Input(shape)` object as the first layer in the model instead.\n",
      "  super().__init__(activity_regularizer=activity_regularizer, **kwargs)\n"
     ]
    },
    {
     "name": "stdout",
     "output_type": "stream",
     "text": [
      "Epoch 1/10\n",
      "\u001b[1m13/13\u001b[0m \u001b[32m━━━━━━━━━━━━━━━━━━━━\u001b[0m\u001b[37m\u001b[0m \u001b[1m94s\u001b[0m 7s/step - accuracy: 0.7131 - loss: 219095.8125 - val_accuracy: 0.8500 - val_loss: 27085.3379\n",
      "Epoch 2/10\n",
      "\u001b[1m13/13\u001b[0m \u001b[32m━━━━━━━━━━━━━━━━━━━━\u001b[0m\u001b[37m\u001b[0m \u001b[1m95s\u001b[0m 7s/step - accuracy: 0.8104 - loss: 26231.8496 - val_accuracy: 0.8400 - val_loss: 24834.2949\n",
      "Epoch 3/10\n",
      "\u001b[1m13/13\u001b[0m \u001b[32m━━━━━━━━━━━━━━━━━━━━\u001b[0m\u001b[37m\u001b[0m \u001b[1m102s\u001b[0m 8s/step - accuracy: 0.8779 - loss: 22317.5605 - val_accuracy: 0.9450 - val_loss: 22431.0469\n",
      "Epoch 4/10\n",
      "\u001b[1m13/13\u001b[0m \u001b[32m━━━━━━━━━━━━━━━━━━━━\u001b[0m\u001b[37m\u001b[0m \u001b[1m96s\u001b[0m 7s/step - accuracy: 0.9329 - loss: 20926.6641 - val_accuracy: 0.8350 - val_loss: 19255.4863\n",
      "Epoch 5/10\n",
      "\u001b[1m13/13\u001b[0m \u001b[32m━━━━━━━━━━━━━━━━━━━━\u001b[0m\u001b[37m\u001b[0m \u001b[1m90s\u001b[0m 7s/step - accuracy: 0.8151 - loss: 16975.5059 - val_accuracy: 0.7600 - val_loss: 14330.3721\n",
      "Epoch 6/10\n",
      "\u001b[1m13/13\u001b[0m \u001b[32m━━━━━━━━━━━━━━━━━━━━\u001b[0m\u001b[37m\u001b[0m \u001b[1m90s\u001b[0m 7s/step - accuracy: 0.7858 - loss: 12228.9941 - val_accuracy: 0.8450 - val_loss: 8126.2627\n",
      "Epoch 7/10\n",
      "\u001b[1m13/13\u001b[0m \u001b[32m━━━━━━━━━━━━━━━━━━━━\u001b[0m\u001b[37m\u001b[0m \u001b[1m88s\u001b[0m 7s/step - accuracy: 0.8521 - loss: 6275.5371 - val_accuracy: 0.9150 - val_loss: 4353.6484\n",
      "Epoch 8/10\n",
      "\u001b[1m13/13\u001b[0m \u001b[32m━━━━━━━━━━━━━━━━━━━━\u001b[0m\u001b[37m\u001b[0m \u001b[1m88s\u001b[0m 7s/step - accuracy: 0.9163 - loss: 2967.3816 - val_accuracy: 0.9500 - val_loss: 2896.7344\n",
      "Epoch 9/10\n",
      "\u001b[1m13/13\u001b[0m \u001b[32m━━━━━━━━━━━━━━━━━━━━\u001b[0m\u001b[37m\u001b[0m \u001b[1m92s\u001b[0m 7s/step - accuracy: 0.9294 - loss: 1741.7062 - val_accuracy: 0.9550 - val_loss: 2124.6987\n",
      "Epoch 10/10\n",
      "\u001b[1m13/13\u001b[0m \u001b[32m━━━━━━━━━━━━━━━━━━━━\u001b[0m\u001b[37m\u001b[0m \u001b[1m87s\u001b[0m 7s/step - accuracy: 0.9464 - loss: 1144.0992 - val_accuracy: 0.9650 - val_loss: 1482.6228\n",
      "\u001b[1m7/7\u001b[0m \u001b[32m━━━━━━━━━━━━━━━━━━━━\u001b[0m\u001b[37m\u001b[0m \u001b[1m3s\u001b[0m 443ms/step - accuracy: 0.9804 - loss: 1342.8116\n",
      "Точность на тестовой выборке: 96.50%\n"
     ]
    }
   ],
   "source": [
    "import numpy as np\n",
    "import pandas as pd\n",
    "import cv2\n",
    "from keras.models import Sequential\n",
    "from keras.layers import Conv2D, MaxPooling2D, Flatten, Dense\n",
    "from sklearn.model_selection import train_test_split\n",
    "\n",
    "\n",
    "# Загрузка данных из файла CSV\n",
    "data = pd.read_csv('data_00_gauss.csv', delimiter=' ', header=None)\n",
    "X = []\n",
    "y = []\n",
    "\n",
    "# Загрузка изображений и меток\n",
    "for idx, row in data.iterrows():\n",
    "    image_num = int(row[0])\n",
    "    center_x, center_y = int(row[1]), int(row[2])\n",
    "    stdx = row[3]\n",
    "    stdy = row[4]\n",
    "    \n",
    "    # Генерация изображения с дефектом\n",
    "    img = np.zeros((300, 300,3), dtype=np.uint8)\n",
    "    for i in range (545):\n",
    "        xgen=int(np.random.normal(center_x, stdx, 1))\n",
    "        if(xgen>299):\n",
    "            xgen=299\n",
    "        ygen=int(np.random.normal(center_y, stdy, 1))\n",
    "        if(ygen>299):\n",
    "            ygen=299\n",
    "        img[xgen,ygen]=[255, 255, 255]\n",
    "    \n",
    "    X.append(img)\n",
    "    y.append((center_x, center_y))\n",
    "\n",
    "# Преобразование списков в массивы numpy\n",
    "X = np.array(X)\n",
    "y = np.array(y)\n",
    "\n",
    "# Разделение данных на обучающую и тестовую выборки\n",
    "X_train, X_test, y_train, y_test = train_test_split(X, y, test_size=0.2, random_state=42)\n",
    "\n",
    "# Создание архитектуры нейронной сети\n",
    "model = Sequential()\n",
    "model.add(Conv2D(32, (3, 3), activation='relu', input_shape=(300, 300, 3)))\n",
    "model.add(MaxPooling2D((2, 2)))\n",
    "model.add(Conv2D(64, (3, 3), activation='relu'))\n",
    "model.add(MaxPooling2D((2, 2)))\n",
    "model.add(Conv2D(128, (3, 3), activation='relu'))\n",
    "model.add(MaxPooling2D((2, 2)))\n",
    "model.add(Flatten())\n",
    "model.add(Dense(128, activation='relu'))\n",
    "model.add(Dense(2))  # Выходной слой с двумя нейронами для предсказания координат центра\n",
    "\n",
    "# Компиляция модели\n",
    "model.compile(optimizer='adam', loss='mse', metrics=['accuracy'])  # Используем среднеквадратичную ошибку для задачи регрессии\n",
    "\n",
    "# Обучение модели\n",
    "model.fit(X_train, y_train, epochs=10, batch_size=64, validation_data=(X_test, y_test))\n",
    "\n",
    "\n",
    "# Оценка процента правильно угаданных образцов на тестовой выборке\n",
    "loss, accuracy = model.evaluate(X_test, y_test)\n",
    "print(\"Точность на тестовой выборке: {:.2f}%\".format(accuracy * 100))"
   ]
  },
  {
   "cell_type": "code",
   "execution_count": null,
   "id": "4886ea94-95ab-416c-89bc-a966ec597b01",
   "metadata": {},
   "outputs": [],
   "source": []
  }
 ],
 "metadata": {
  "kernelspec": {
   "display_name": "Python 3 (ipykernel)",
   "language": "python",
   "name": "python3"
  },
  "language_info": {
   "codemirror_mode": {
    "name": "ipython",
    "version": 3
   },
   "file_extension": ".py",
   "mimetype": "text/x-python",
   "name": "python",
   "nbconvert_exporter": "python",
   "pygments_lexer": "ipython3",
   "version": "3.11.7"
  }
 },
 "nbformat": 4,
 "nbformat_minor": 5
}
