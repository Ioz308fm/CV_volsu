{
 "cells": [
  {
   "cell_type": "code",
   "execution_count": 24,
   "id": "ead8b155",
   "metadata": {},
   "outputs": [
    {
     "name": "stderr",
     "output_type": "stream",
     "text": [
      "C:\\Users\\vadim\\AppData\\Local\\Temp\\ipykernel_14680\\1121919408.py:22: DeprecationWarning: `np.int0` is a deprecated alias for `np.intp`.  (Deprecated NumPy 1.24)\n",
      "  box = np.int0(box) # округление координат\n",
      "C:\\Users\\vadim\\AppData\\Local\\Temp\\ipykernel_14680\\1121919408.py:26: DeprecationWarning: `np.int0` is a deprecated alias for `np.intp`.  (Deprecated NumPy 1.24)\n",
      "  edge1 = np.int0((box[1][0] - box[0][0],box[1][1] - box[0][1]))\n",
      "C:\\Users\\vadim\\AppData\\Local\\Temp\\ipykernel_14680\\1121919408.py:27: DeprecationWarning: `np.int0` is a deprecated alias for `np.intp`.  (Deprecated NumPy 1.24)\n",
      "  edge2 = np.int0((box[2][0] - box[1][0],box[2][1] - box[1][1]))\n"
     ]
    }
   ],
   "source": [
    "import sys\n",
    "import numpy as np\n",
    "import cv2 as cv\n",
    "import math\n",
    "hsv_min = np.array((0, 0, 0), np.uint8)\n",
    "hsv_max = np.array((240, 100, 70), np.uint8)\n",
    "##hsv_min = np.array((0, 146, 222), np.uint8)\n",
    "##hsv_max = np.array((255, 255, 255), np.uint8)\n",
    "color_blue = (255,0,0)\n",
    "color_yellow = (0,255,255)\n",
    "\n",
    "img = cv.imread('p3.png')\n",
    "hsv = cv.cvtColor( img, cv.COLOR_BGR2HSV ) \n",
    "#меняем цветовую модель с BGR на HSV\n",
    "thresh = cv.inRange( hsv, hsv_min, hsv_max )\n",
    "#применяем цветовой фильтр\n",
    "contours0, hierarchy = cv.findContours( thresh.copy(), cv.RETR_TREE, cv.CHAIN_APPROX_SIMPLE)\n",
    "# перебираем все найденные контуры в цикле\n",
    "for cnt in contours0:\n",
    "    rect = cv.minAreaRect(cnt) # пытаемся вписать пр-к\n",
    "    box = cv.boxPoints(rect) # поиск четырех вершин прямоугольника\n",
    "    box = np.int0(box) # округление координат\n",
    "    area = int(rect[1][0]*rect[1][1]) #вычисление площади\n",
    "    area_a = cv.contourArea(cnt)\n",
    "    center = (int(rect[0][0]),int(rect[0][1]))\n",
    "    edge1 = np.int0((box[1][0] - box[0][0],box[1][1] - box[0][1]))\n",
    "    edge2 = np.int0((box[2][0] - box[1][0],box[2][1] - box[1][1]))\n",
    "    # выясняем какой вектор больше\n",
    "    usedEdge = edge1\n",
    "    if cv.norm(edge2) > cv.norm(edge1):\n",
    "        usedEdge = edge2\n",
    "        reference = (1,0) # горизонтальный вектор, задающий горизонт\n",
    "        #print(reference)\n",
    "        angle = 180.0/math.pi * math.acos((reference[0]*usedEdge[0] + reference[1]*usedEdge[1]) / (cv.norm(reference) *cv.norm(usedEdge)))\n",
    "    if area > 5000 and area - area_a < 148090:\n",
    "        if area > 1700:\n",
    "            cv.drawContours(img,[box],0,(255,0,0),2)\n",
    "            cv.putText(img, \"%d\" % int(angle),(center[0]+20, center[1]-20),cv.FONT_HERSHEY_SIMPLEX, 1, color_yellow, 2)\n",
    "            cv.putText(img, \"%d\" % int(center[0]),(center[0]-20, center[1]+20),cv.FONT_HERSHEY_SIMPLEX, 1, color_yellow, 2)\n",
    "            cv.putText(img, \"%d\" % int(center[1]),(center[0]+60, center[1]+20),cv.FONT_HERSHEY_SIMPLEX, 1, color_yellow, 2)\n",
    "        cv.drawContours(img,[box],0,(255,0,0),2)\n",
    "cv.imwrite('figs_rect.png', img)\n",
    "while True:\n",
    "    cv.imshow('contours', img)\n",
    "    cv.imwrite('figs_rect2.png', img)\n",
    "    if cv.waitKey(1) & 0xFF == ord('q'):\n",
    "        break\n",
    "cv.destroyAllWindows()"
   ]
  },
  {
   "cell_type": "code",
   "execution_count": 25,
   "id": "774da21b",
   "metadata": {},
   "outputs": [
    {
     "name": "stderr",
     "output_type": "stream",
     "text": [
      "C:\\Users\\vadim\\AppData\\Local\\Temp\\ipykernel_14680\\3412157735.py:22: DeprecationWarning: `np.int0` is a deprecated alias for `np.intp`.  (Deprecated NumPy 1.24)\n",
      "  box = np.int0(box) # округление координат\n",
      "C:\\Users\\vadim\\AppData\\Local\\Temp\\ipykernel_14680\\3412157735.py:26: DeprecationWarning: `np.int0` is a deprecated alias for `np.intp`.  (Deprecated NumPy 1.24)\n",
      "  edge1 = np.int0((box[1][0] - box[0][0],box[1][1] - box[0][1]))\n",
      "C:\\Users\\vadim\\AppData\\Local\\Temp\\ipykernel_14680\\3412157735.py:27: DeprecationWarning: `np.int0` is a deprecated alias for `np.intp`.  (Deprecated NumPy 1.24)\n",
      "  edge2 = np.int0((box[2][0] - box[1][0],box[2][1] - box[1][1]))\n"
     ]
    }
   ],
   "source": [
    "import sys\n",
    "import numpy as np\n",
    "import cv2 as cv\n",
    "import math\n",
    "hsv_min = np.array((0, 0, 0), np.uint8)\n",
    "hsv_max = np.array((240, 100, 65), np.uint8)\n",
    "##hsv_min = np.array((0, 146, 222), np.uint8)\n",
    "##hsv_max = np.array((255, 255, 255), np.uint8)\n",
    "color_blue = (255,0,0)\n",
    "color_yellow = (0,255,255)\n",
    "\n",
    "img = cv.imread('p4.png')\n",
    "hsv = cv.cvtColor( img, cv.COLOR_BGR2HSV ) \n",
    "#меняем цветовую модель с BGR на HSV\n",
    "thresh = cv.inRange( hsv, hsv_min, hsv_max )\n",
    "#применяем цветовой фильтр\n",
    "contours0, hierarchy = cv.findContours( thresh.copy(), cv.RETR_TREE, cv.CHAIN_APPROX_SIMPLE)\n",
    "# перебираем все найденные контуры в цикле\n",
    "for cnt in contours0:\n",
    "    rect = cv.minAreaRect(cnt) # пытаемся вписать пр-к\n",
    "    box = cv.boxPoints(rect) # поиск четырех вершин прямоугольника\n",
    "    box = np.int0(box) # округление координат\n",
    "    area = int(rect[1][0]*rect[1][1]) #вычисление площади\n",
    "    area_a = cv.contourArea(cnt)\n",
    "    center = (int(rect[0][0]),int(rect[0][1]))\n",
    "    edge1 = np.int0((box[1][0] - box[0][0],box[1][1] - box[0][1]))\n",
    "    edge2 = np.int0((box[2][0] - box[1][0],box[2][1] - box[1][1]))\n",
    "    # выясняем какой вектор больше\n",
    "    usedEdge = edge1\n",
    "    if cv.norm(edge2) > cv.norm(edge1):\n",
    "        usedEdge = edge2\n",
    "        reference = (1,0) # горизонтальный вектор, задающий горизонт\n",
    "    # вычисляем угол между самой длинной стороной прямоугольника и горизонтом\n",
    "    if cv.norm(usedEdge) != 0:\n",
    "        angle = 180.0/math.pi * math.acos((reference[0]*usedEdge[0] + reference[1]*usedEdge[1]) / (cv.norm(reference) *cv.norm(usedEdge)))\n",
    "    if area > 5000 and area - area_a < 148090:\n",
    "        if area > 1700:\n",
    "            cv.drawContours(img,[box],0,(255,0,0),2)\n",
    "            cv.putText(img, \"%d\" % int(angle),(center[0]+20, center[1]-20),cv.FONT_HERSHEY_SIMPLEX, 1, color_yellow, 2)\n",
    "            cv.putText(img, \"%d\" % int(center[0]),(center[0]-20, center[1]+20),cv.FONT_HERSHEY_SIMPLEX, 1, color_yellow, 2)\n",
    "            cv.putText(img, \"%d\" % int(center[1]),(center[0]+60, center[1]+20),cv.FONT_HERSHEY_SIMPLEX, 1, color_yellow, 2)\n",
    "        cv.drawContours(img,[box],0,(255,0,0),2)\n",
    "cv.imwrite('figs_rect.png', img)\n",
    "while True:\n",
    "    cv.imshow('contours', img)\n",
    "    cv.imwrite('figs_rect3.png', img)\n",
    "    if cv.waitKey(1) & 0xFF == ord('q'):\n",
    "        break\n",
    "cv.destroyAllWindows()"
   ]
  },
  {
   "cell_type": "code",
   "execution_count": 26,
   "id": "e0d259b4",
   "metadata": {},
   "outputs": [
    {
     "name": "stdout",
     "output_type": "stream",
     "text": [
      "(564, 706, 3)\n",
      "27\n"
     ]
    },
    {
     "name": "stderr",
     "output_type": "stream",
     "text": [
      "C:\\Users\\vadim\\AppData\\Local\\Temp\\ipykernel_14680\\2215929146.py:22: DeprecationWarning: `np.int0` is a deprecated alias for `np.intp`.  (Deprecated NumPy 1.24)\n",
      "  box = np.int0(box)\n"
     ]
    }
   ],
   "source": [
    "#эллипс\n",
    "import sys\n",
    "import numpy as np\n",
    "import cv2 as cv\n",
    "import math\n",
    "hsv_min = np.array((0, 60, 10), np.uint8)\n",
    "hsv_max = np.array((187, 255, 253), np.uint8)\n",
    "color_blue = (255,0,0)\n",
    "color_yellow = (0,255,255)\n",
    "i=0\n",
    "fn = 'ovalpic2.png' # имя файла, который будем анализировать\n",
    "img = cv.imread(fn)\n",
    "print(img.shape)\n",
    "imgray = cv.cvtColor(img,cv.COLOR_BGR2GRAY)\n",
    "ret,thresh = cv.threshold(imgray,125,250,cv.THRESH_BINARY)\n",
    "contours0, hierarchy = cv.findContours(thresh,cv.RETR_LIST,cv.CHAIN_APPROX_SIMPLE)\n",
    "contrs = []\n",
    "for cnt in contours0:\n",
    "    if len(cnt)>4:\n",
    "        rect = cv.minAreaRect(cnt)\n",
    "        box = cv.boxPoints(rect)\n",
    "        box = np.int0(box)\n",
    "        center = (int(rect[0][0]),int(rect[0][1]))\n",
    "        area_a = cv.contourArea(cnt)\n",
    "        ellipse = cv.fitEllipse(cnt)\n",
    "        area = int(math.pi*ellipse[1][0]*ellipse[1][1]/4)\n",
    "        if area>450 and math.fabs(area - area_a) < 500:\n",
    "            contrs.append(cnt)\n",
    "            cv.ellipse(img,ellipse,(200,100,25),4) \n",
    "            cv.putText(img, \"%d\" %i , (center[0]+20,center[1]-20), cv.FONT_HERSHEY_SIMPLEX, 1, color_yellow, 2)\n",
    "            i=i+1\n",
    "cv.drawContours(img,contrs,-1,(0,255,0),2)\n",
    "cv.imshow('contours', img) # вывод обработанного кадра в окно\n",
    "cv.imwrite('figs_ovals.png', img)\n",
    "print(i)\n",
    "cv.waitKey()\n",
    "cv.destroyAllWindows()"
   ]
  },
  {
   "cell_type": "code",
   "execution_count": null,
   "id": "6f0381c9",
   "metadata": {},
   "outputs": [],
   "source": []
  }
 ],
 "metadata": {
  "kernelspec": {
   "display_name": "Python 3 (ipykernel)",
   "language": "python",
   "name": "python3"
  },
  "language_info": {
   "codemirror_mode": {
    "name": "ipython",
    "version": 3
   },
   "file_extension": ".py",
   "mimetype": "text/x-python",
   "name": "python",
   "nbconvert_exporter": "python",
   "pygments_lexer": "ipython3",
   "version": "3.11.7"
  }
 },
 "nbformat": 4,
 "nbformat_minor": 5
}
