{
 "cells": [
  {
   "cell_type": "code",
   "execution_count": 1,
   "id": "ec5d7990",
   "metadata": {},
   "outputs": [
    {
     "name": "stdout",
     "output_type": "stream",
     "text": [
      "Detected license plate Number is: Конечная остановка\n",
      "\n",
      "64\\ МКР. ИВЯНОВСКОЕ\n",
      "\n",
      "ЗОМ ТОВ МЕТРО ШОССЕ ЭН\n",
      "\n",
      "15 мин\n",
      "\n",
      "602М СТАРОЕ КОСИНО\n",
      "\n",
      "247Н МКР. ИВАНОВСКОЕ\n",
      "\n",
      "8 мин\n",
      "\n",
      "730 ПРОЕЗД ЗНТУЗИЯСТОВ\n",
      "\n",
      "6 №\n",
      "\n"
     ]
    }
   ],
   "source": [
    "# (720,520) НЕ УДАЛЯТЬ \n",
    "import numpy as np\n",
    "import cv2\n",
    "import imutils\n",
    "import pytesseract\n",
    "img = cv2.imread('tablo.png')\n",
    "img = cv2.resize(img, (720,520) )\n",
    "gray = cv2.cvtColor(img, cv2.COLOR_BGR2GRAY) \n",
    "gray = cv2.bilateralFilter(gray, 13, 15, 15)\n",
    "edged = cv2.Canny(gray, 30, 200)\n",
    "contours = cv2.findContours(edged.copy(),cv2.RETR_TREE,cv2.CHAIN_APPROX_SIMPLE)\n",
    "contours = imutils.grab_contours(contours)\n",
    "contours = sorted(contours,key=cv2.contourArea, reverse = True)[:5] \n",
    "cv2.imwrite('res1.png',edged)\n",
    "screenCnt = None\n",
    "for c in contours:\n",
    "    cv2.drawContours(img,contours,-1,(0,255,0),2)\n",
    "    # вычисляем периметр и аппроксимируем многоугольником\n",
    "    perim = cv2.arcLength(c, True)\n",
    "    approx = cv2.approxPolyDP(c, 0.018 * perim, True)\n",
    "    # если приближающий многоугольник имеет 4 стороны, то\n",
    "    # можем предположить, что то прямоугольник\n",
    "    if len(approx) == 4:\n",
    "        screenCnt = approx\n",
    "        break\n",
    "mask = np.zeros(gray.shape,np.uint8)\n",
    "new_image = cv2.drawContours(mask,[screenCnt],0,255,-1,)\n",
    "new_image = cv2.bitwise_and(img,img,mask=mask)\n",
    "(x, y) = np.where(mask == 255)\n",
    "(topx, topy) = (np.min(x), np.min(y))\n",
    "(bottomx, bottomy) = (np.max(x), np.max(y))\n",
    "Cropped = gray[topx:bottomx+1, topy:bottomy+1]\n",
    "\n",
    "\n",
    "from cv2 import dnn_superres\n",
    "sr = dnn_superres.DnnSuperResImpl_create()\n",
    "path = \"FSRCNN_x4.pb\"\n",
    "sr.readModel(path)\n",
    "sr.setModel(\"edsr\", 3)\n",
    "# Улучшаем\n",
    "Cropped = sr.upsample(Cropped)\n",
    "\n",
    "\n",
    "cv2.imwrite('res.png',Cropped)\n",
    "pytesseract.pytesseract.tesseract_cmd = r'C:\\Program Files\\Tesseract-OCR\\tesseract.exe'\n",
    "text = pytesseract.image_to_string(Cropped, lang='rus', config='--psm 11')\n",
    "print(\"Detected license plate Number is:\",text)\n"
   ]
  },
  {
   "cell_type": "code",
   "execution_count": 2,
   "id": "b8e6f76b",
   "metadata": {},
   "outputs": [
    {
     "name": "stdout",
     "output_type": "stream",
     "text": [
      "Collecting imutils\n",
      "  Downloading imutils-0.5.4.tar.gz (17 kB)\n",
      "  Preparing metadata (setup.py): started\n",
      "  Preparing metadata (setup.py): finished with status 'done'\n",
      "Building wheels for collected packages: imutils\n",
      "  Building wheel for imutils (setup.py): started\n",
      "  Building wheel for imutils (setup.py): finished with status 'done'\n",
      "  Created wheel for imutils: filename=imutils-0.5.4-py3-none-any.whl size=25855 sha256=78669bd83476ad04c8c2d495f3aeba511d4cd6d6a3c8f02fba4ac01d270a34f6\n",
      "  Stored in directory: c:\\users\\vadim\\appdata\\local\\pip\\cache\\wheels\\31\\d0\\2c\\87ce38f6052879e5b7b18f0f8b4a10ad2a9d210e908d449f16\n",
      "Successfully built imutils\n",
      "Installing collected packages: imutils\n",
      "Successfully installed imutils-0.5.4\n",
      "Note: you may need to restart the kernel to use updated packages.\n"
     ]
    }
   ],
   "source": [
    "pip install imutils"
   ]
  },
  {
   "cell_type": "code",
   "execution_count": 3,
   "id": "cb94b9f4",
   "metadata": {},
   "outputs": [
    {
     "name": "stdout",
     "output_type": "stream",
     "text": [
      "Collecting pytesseract\n",
      "  Downloading pytesseract-0.3.10-py3-none-any.whl.metadata (11 kB)\n",
      "Requirement already satisfied: packaging>=21.3 in c:\\users\\vadim\\anaconda3\\lib\\site-packages (from pytesseract) (23.1)\n",
      "Requirement already satisfied: Pillow>=8.0.0 in c:\\users\\vadim\\anaconda3\\lib\\site-packages (from pytesseract) (10.2.0)\n",
      "Downloading pytesseract-0.3.10-py3-none-any.whl (14 kB)\n",
      "Installing collected packages: pytesseract\n",
      "Successfully installed pytesseract-0.3.10\n",
      "Note: you may need to restart the kernel to use updated packages.\n"
     ]
    }
   ],
   "source": [
    "pip install pytesseract"
   ]
  },
  {
   "cell_type": "code",
   "execution_count": 18,
   "id": "3018b849",
   "metadata": {},
   "outputs": [
    {
     "name": "stdout",
     "output_type": "stream",
     "text": [
      "[array([[[395, 235]],\n",
      "\n",
      "       [[391, 285]],\n",
      "\n",
      "       [[256, 296]],\n",
      "\n",
      "       [[257, 245]]], dtype=int32)]\n"
     ]
    },
    {
     "data": {
      "text/plain": [
       "True"
      ]
     },
     "execution_count": 18,
     "metadata": {},
     "output_type": "execute_result"
    }
   ],
   "source": [
    "import numpy as np\n",
    "import cv2\n",
    "import imutils\n",
    "import pytesseract\n",
    "img = cv2.imread('bibika.png')\n",
    "img = cv2.resize(img, (620,480) )\n",
    "gray = cv2.cvtColor(img, cv2.COLOR_BGR2GRAY) \n",
    "gray = cv2.bilateralFilter(gray, 13, 15, 15)\n",
    "edged = cv2.Canny(gray, 30, 200)\n",
    "contours = cv2.findContours(edged.copy(),cv2.RETR_TREE,cv2.CHAIN_APPROX_SIMPLE)\n",
    "contours = imutils.grab_contours(contours)\n",
    "contours = sorted(contours,key=cv2.contourArea, reverse =True)[:10] \n",
    "screenCnt = None\n",
    "for c in contours:\n",
    "    # вычисляем периметр и аппроксимируем многоугольником\n",
    "    perim = cv2.arcLength(c, True)\n",
    "    approx = cv2.approxPolyDP(c, 0.018 * perim, True)\n",
    "    # если приближающий многоугольник имеет 4 стороны, то\n",
    "    # можем предположить, что то прямоугольник\n",
    "    if len(approx) == 4:\n",
    "        screenCnt = approx\n",
    "        break\n",
    "print([screenCnt])\n",
    "mask = np.zeros(gray.shape,np.uint8)\n",
    "new_image = cv2.drawContours(mask,[screenCnt],0,255,-1,)\n",
    "new_image = cv2.bitwise_and(img,img,mask=mask)\n",
    "\n",
    "cv2.imwrite('resbib.png',new_image)"
   ]
  },
  {
   "cell_type": "code",
   "execution_count": 21,
   "id": "b4ca8524",
   "metadata": {},
   "outputs": [
    {
     "name": "stdout",
     "output_type": "stream",
     "text": [
      "Requirement already satisfied: pytesseract in c:\\users\\vadim\\anaconda3\\lib\\site-packages (0.3.10)\n",
      "Requirement already satisfied: Pillow>=8.0.0 in c:\\users\\vadim\\anaconda3\\lib\\site-packages (from pytesseract) (9.0.1)\n",
      "Requirement already satisfied: packaging>=21.3 in c:\\users\\vadim\\anaconda3\\lib\\site-packages (from pytesseract) (21.3)\n",
      "Requirement already satisfied: pyparsing!=3.0.5,>=2.0.2 in c:\\users\\vadim\\anaconda3\\lib\\site-packages (from packaging>=21.3->pytesseract) (3.0.4)\n",
      "Note: you may need to restart the kernel to use updated packages.\n"
     ]
    }
   ],
   "source": [
    "pip install pytesseract"
   ]
  },
  {
   "cell_type": "code",
   "execution_count": 2,
   "id": "dbbf2d87",
   "metadata": {},
   "outputs": [
    {
     "name": "stdout",
     "output_type": "stream",
     "text": [
      "Collecting opencv-contrib-python\n",
      "  Downloading opencv_contrib_python-4.9.0.80-cp37-abi3-win_amd64.whl.metadata (20 kB)\n",
      "Requirement already satisfied: numpy>=1.21.2 in c:\\users\\vadim\\anaconda3\\lib\\site-packages (from opencv-contrib-python) (1.26.4)\n",
      "Downloading opencv_contrib_python-4.9.0.80-cp37-abi3-win_amd64.whl (45.3 MB)\n",
      "   ---------------------------------------- 0.0/45.3 MB ? eta -:--:--\n",
      "   ---------------------------------------- 0.0/45.3 MB ? eta -:--:--\n",
      "   ---------------------------------------- 0.0/45.3 MB 495.5 kB/s eta 0:01:32\n",
      "   ---------------------------------------- 0.1/45.3 MB 901.1 kB/s eta 0:00:51\n",
      "   ---------------------------------------- 0.2/45.3 MB 1.4 MB/s eta 0:00:33\n",
      "   ---------------------------------------- 0.3/45.3 MB 1.5 MB/s eta 0:00:31\n",
      "   ---------------------------------------- 0.5/45.3 MB 1.9 MB/s eta 0:00:24\n",
      "    --------------------------------------- 0.8/45.3 MB 2.5 MB/s eta 0:00:18\n",
      "   - -------------------------------------- 1.3/45.3 MB 3.7 MB/s eta 0:00:12\n",
      "   - -------------------------------------- 1.9/45.3 MB 4.7 MB/s eta 0:00:10\n",
      "   - -------------------------------------- 2.1/45.3 MB 4.9 MB/s eta 0:00:09\n",
      "   - -------------------------------------- 2.1/45.3 MB 4.9 MB/s eta 0:00:09\n",
      "   -- ------------------------------------- 3.0/45.3 MB 5.5 MB/s eta 0:00:08\n",
      "   --- ------------------------------------ 3.7/45.3 MB 6.3 MB/s eta 0:00:07\n",
      "   --- ------------------------------------ 4.5/45.3 MB 6.9 MB/s eta 0:00:06\n",
      "   ---- ----------------------------------- 4.7/45.3 MB 7.2 MB/s eta 0:00:06\n",
      "   ---- ----------------------------------- 4.7/45.3 MB 7.2 MB/s eta 0:00:06\n",
      "   ---- ----------------------------------- 5.3/45.3 MB 6.8 MB/s eta 0:00:06\n",
      "   ----- ---------------------------------- 6.7/45.3 MB 8.1 MB/s eta 0:00:05\n",
      "   ------ --------------------------------- 7.2/45.3 MB 8.2 MB/s eta 0:00:05\n",
      "   ------ --------------------------------- 7.8/45.3 MB 8.4 MB/s eta 0:00:05\n",
      "   ------- -------------------------------- 8.3/45.3 MB 8.6 MB/s eta 0:00:05\n",
      "   ------- -------------------------------- 8.9/45.3 MB 8.7 MB/s eta 0:00:05\n",
      "   -------- ------------------------------- 9.4/45.3 MB 8.9 MB/s eta 0:00:05\n",
      "   -------- ------------------------------- 10.0/45.3 MB 9.0 MB/s eta 0:00:04\n",
      "   --------- ------------------------------ 10.5/45.3 MB 10.7 MB/s eta 0:00:04\n",
      "   --------- ------------------------------ 11.1/45.3 MB 11.5 MB/s eta 0:00:03\n",
      "   ---------- ----------------------------- 11.7/45.3 MB 11.5 MB/s eta 0:00:03\n",
      "   ---------- ----------------------------- 12.2/45.3 MB 11.5 MB/s eta 0:00:03\n",
      "   ----------- ---------------------------- 12.7/45.3 MB 12.4 MB/s eta 0:00:03\n",
      "   ----------- ---------------------------- 13.3/45.3 MB 12.1 MB/s eta 0:00:03\n",
      "   ------------ --------------------------- 13.9/45.3 MB 12.1 MB/s eta 0:00:03\n",
      "   ------------ --------------------------- 13.9/45.3 MB 12.1 MB/s eta 0:00:03\n",
      "   ------------ --------------------------- 13.9/45.3 MB 12.1 MB/s eta 0:00:03\n",
      "   ------------ --------------------------- 13.9/45.3 MB 12.1 MB/s eta 0:00:03\n",
      "   ------------ --------------------------- 13.9/45.3 MB 12.1 MB/s eta 0:00:03\n",
      "   ------------ --------------------------- 13.9/45.3 MB 12.1 MB/s eta 0:00:03\n",
      "   ------------ --------------------------- 13.9/45.3 MB 12.1 MB/s eta 0:00:03\n",
      "   ------------ --------------------------- 13.9/45.3 MB 12.1 MB/s eta 0:00:03\n",
      "   ------------ --------------------------- 13.9/45.3 MB 12.1 MB/s eta 0:00:03\n",
      "   ------------ --------------------------- 13.9/45.3 MB 12.1 MB/s eta 0:00:03\n",
      "   ------------ --------------------------- 13.9/45.3 MB 12.1 MB/s eta 0:00:03\n",
      "   ------------ --------------------------- 13.9/45.3 MB 12.1 MB/s eta 0:00:03\n",
      "   ------------ --------------------------- 13.9/45.3 MB 7.3 MB/s eta 0:00:05\n",
      "   -------------- ------------------------- 16.7/45.3 MB 8.3 MB/s eta 0:00:04\n",
      "   ----------------- ---------------------- 20.3/45.3 MB 10.4 MB/s eta 0:00:03\n",
      "   ------------------ --------------------- 21.3/45.3 MB 10.9 MB/s eta 0:00:03\n",
      "   ------------------- -------------------- 21.9/45.3 MB 10.9 MB/s eta 0:00:03\n",
      "   ------------------- -------------------- 22.4/45.3 MB 10.9 MB/s eta 0:00:03\n",
      "   -------------------- ------------------- 23.0/45.3 MB 10.9 MB/s eta 0:00:03\n",
      "   -------------------- ------------------- 23.5/45.3 MB 10.9 MB/s eta 0:00:02\n",
      "   --------------------- ------------------ 24.1/45.3 MB 10.9 MB/s eta 0:00:02\n",
      "   --------------------- ------------------ 24.6/45.3 MB 24.2 MB/s eta 0:00:01\n",
      "   ---------------------- ----------------- 25.2/45.3 MB 22.6 MB/s eta 0:00:01\n",
      "   ---------------------- ----------------- 25.7/45.3 MB 20.5 MB/s eta 0:00:01\n",
      "   ----------------------- ---------------- 26.3/45.3 MB 19.3 MB/s eta 0:00:01\n",
      "   ----------------------- ---------------- 26.8/45.3 MB 18.2 MB/s eta 0:00:02\n",
      "   ------------------------ --------------- 27.4/45.3 MB 16.8 MB/s eta 0:00:02\n",
      "   ------------------------ --------------- 28.0/45.3 MB 16.0 MB/s eta 0:00:02\n",
      "   ------------------------- -------------- 28.5/45.3 MB 14.9 MB/s eta 0:00:02\n",
      "   ------------------------- -------------- 29.1/45.3 MB 14.2 MB/s eta 0:00:02\n",
      "   -------------------------- ------------- 29.6/45.3 MB 13.4 MB/s eta 0:00:02\n",
      "   -------------------------- ------------- 30.2/45.3 MB 12.8 MB/s eta 0:00:02\n",
      "   --------------------------- ------------ 30.7/45.3 MB 12.1 MB/s eta 0:00:02\n",
      "   --------------------------- ------------ 31.3/45.3 MB 11.7 MB/s eta 0:00:02\n",
      "   ---------------------------- ----------- 31.8/45.3 MB 11.7 MB/s eta 0:00:02\n",
      "   ---------------------------- ----------- 32.4/45.3 MB 11.7 MB/s eta 0:00:02\n",
      "   ----------------------------- ---------- 32.9/45.3 MB 11.7 MB/s eta 0:00:02\n",
      "   ----------------------------- ---------- 33.5/45.3 MB 11.7 MB/s eta 0:00:02\n",
      "   ------------------------------ --------- 34.0/45.3 MB 11.7 MB/s eta 0:00:01\n",
      "   ------------------------------ --------- 34.6/45.3 MB 11.7 MB/s eta 0:00:01\n",
      "   ------------------------------- -------- 35.1/45.3 MB 11.7 MB/s eta 0:00:01\n",
      "   ------------------------------- -------- 35.7/45.3 MB 11.7 MB/s eta 0:00:01\n",
      "   -------------------------------- ------- 36.3/45.3 MB 11.9 MB/s eta 0:00:01\n",
      "   -------------------------------- ------- 36.8/45.3 MB 11.9 MB/s eta 0:00:01\n",
      "   -------------------------------- ------- 37.4/45.3 MB 11.7 MB/s eta 0:00:01\n",
      "   --------------------------------- ------ 37.9/45.3 MB 11.7 MB/s eta 0:00:01\n",
      "   --------------------------------- ------ 38.5/45.3 MB 11.9 MB/s eta 0:00:01\n",
      "   ---------------------------------- ----- 39.0/45.3 MB 11.7 MB/s eta 0:00:01\n",
      "   ---------------------------------- ----- 39.6/45.3 MB 11.9 MB/s eta 0:00:01\n",
      "   ----------------------------------- ---- 40.2/45.3 MB 11.9 MB/s eta 0:00:01\n",
      "   ----------------------------------- ---- 40.7/45.3 MB 11.9 MB/s eta 0:00:01\n",
      "   ------------------------------------ --- 41.3/45.3 MB 11.9 MB/s eta 0:00:01\n",
      "   ------------------------------------ --- 41.8/45.3 MB 11.9 MB/s eta 0:00:01\n",
      "   ------------------------------------- -- 42.3/45.3 MB 11.9 MB/s eta 0:00:01\n",
      "   ------------------------------------- -- 42.9/45.3 MB 11.9 MB/s eta 0:00:01\n",
      "   -------------------------------------- - 43.4/45.3 MB 11.9 MB/s eta 0:00:01\n",
      "   -------------------------------------- - 44.0/45.3 MB 11.9 MB/s eta 0:00:01\n",
      "   ---------------------------------------  44.6/45.3 MB 11.9 MB/s eta 0:00:01\n",
      "   ---------------------------------------  45.1/45.3 MB 11.9 MB/s eta 0:00:01\n",
      "   ---------------------------------------  45.3/45.3 MB 11.9 MB/s eta 0:00:01\n",
      "   ---------------------------------------  45.3/45.3 MB 11.9 MB/s eta 0:00:01\n",
      "   ---------------------------------------  45.3/45.3 MB 11.9 MB/s eta 0:00:01\n",
      "   ---------------------------------------  45.3/45.3 MB 11.9 MB/s eta 0:00:01\n",
      "   ---------------------------------------  45.3/45.3 MB 11.9 MB/s eta 0:00:01\n",
      "   ---------------------------------------  45.3/45.3 MB 11.9 MB/s eta 0:00:01\n",
      "   ---------------------------------------  45.3/45.3 MB 11.9 MB/s eta 0:00:01\n",
      "   ---------------------------------------  45.3/45.3 MB 11.9 MB/s eta 0:00:01\n",
      "   ---------------------------------------- 45.3/45.3 MB 5.6 MB/s eta 0:00:00\n",
      "Installing collected packages: opencv-contrib-python\n",
      "Successfully installed opencv-contrib-python-4.9.0.80\n",
      "Note: you may need to restart the kernel to use updated packages.\n"
     ]
    }
   ],
   "source": [
    "pip install --upgrade opencv-contrib-python --user"
   ]
  },
  {
   "cell_type": "code",
   "execution_count": 38,
   "id": "7f0da1a1",
   "metadata": {},
   "outputs": [
    {
     "name": "stdout",
     "output_type": "stream",
     "text": [
      "Requirement already satisfied: opencv-python in c:\\users\\vadim\\anaconda3\\lib\\site-packages (4.9.0.80)\n",
      "Requirement already satisfied: numpy>=1.17.0 in c:\\users\\vadim\\anaconda3\\lib\\site-packages (from opencv-python) (1.21.5)\n",
      "Note: you may need to restart the kernel to use updated packages.\n"
     ]
    }
   ],
   "source": [
    "pip install --upgrade opencv-python"
   ]
  },
  {
   "cell_type": "code",
   "execution_count": null,
   "id": "25351c3f",
   "metadata": {},
   "outputs": [],
   "source": []
  }
 ],
 "metadata": {
  "kernelspec": {
   "display_name": "Python 3 (ipykernel)",
   "language": "python",
   "name": "python3"
  },
  "language_info": {
   "codemirror_mode": {
    "name": "ipython",
    "version": 3
   },
   "file_extension": ".py",
   "mimetype": "text/x-python",
   "name": "python",
   "nbconvert_exporter": "python",
   "pygments_lexer": "ipython3",
   "version": "3.11.7"
  }
 },
 "nbformat": 4,
 "nbformat_minor": 5
}
