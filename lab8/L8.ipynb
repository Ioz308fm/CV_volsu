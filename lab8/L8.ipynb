{
 "cells": [
  {
   "cell_type": "code",
   "execution_count": 1,
   "id": "96597f2e",
   "metadata": {},
   "outputs": [
    {
     "ename": "error",
     "evalue": "OpenCV(4.9.0) D:\\a\\opencv-python\\opencv-python\\opencv\\modules\\imgproc\\src\\color.cpp:196: error: (-215:Assertion failed) !_src.empty() in function 'cv::cvtColor'\n",
     "output_type": "error",
     "traceback": [
      "\u001b[1;31m---------------------------------------------------------------------------\u001b[0m",
      "\u001b[1;31merror\u001b[0m                                     Traceback (most recent call last)",
      "Cell \u001b[1;32mIn[1], line 20\u001b[0m\n\u001b[0;32m     18\u001b[0m \u001b[38;5;28;01mif\u001b[39;00m shag\u001b[38;5;241m%\u001b[39m\u001b[38;5;241m2\u001b[39m\u001b[38;5;241m==\u001b[39m\u001b[38;5;241m0\u001b[39m:\n\u001b[0;32m     19\u001b[0m     ret, frame \u001b[38;5;241m=\u001b[39m cap\u001b[38;5;241m.\u001b[39mread()\n\u001b[1;32m---> 20\u001b[0m     gray \u001b[38;5;241m=\u001b[39m np\u001b[38;5;241m.\u001b[39marray(cv2\u001b[38;5;241m.\u001b[39mcvtColor(frame,cv2\u001b[38;5;241m.\u001b[39mCOLOR_BGR2GRAY),dtype\u001b[38;5;241m=\u001b[39m\u001b[38;5;124m'\u001b[39m\u001b[38;5;124mint16\u001b[39m\u001b[38;5;124m'\u001b[39m)\n\u001b[0;32m     21\u001b[0m     kadr \u001b[38;5;241m=\u001b[39m np\u001b[38;5;241m.\u001b[39marray(np\u001b[38;5;241m.\u001b[39mabs(gray \u001b[38;5;241m-\u001b[39m gray0), dtype\u001b[38;5;241m=\u001b[39m\u001b[38;5;124m'\u001b[39m\u001b[38;5;124muint8\u001b[39m\u001b[38;5;124m'\u001b[39m)\n\u001b[0;32m     22\u001b[0m     kadr \u001b[38;5;241m=\u001b[39m cv2\u001b[38;5;241m.\u001b[39mdilate(kadr,kernel,iterations \u001b[38;5;241m=\u001b[39m \u001b[38;5;241m1\u001b[39m)\n",
      "\u001b[1;31merror\u001b[0m: OpenCV(4.9.0) D:\\a\\opencv-python\\opencv-python\\opencv\\modules\\imgproc\\src\\color.cpp:196: error: (-215:Assertion failed) !_src.empty() in function 'cv::cvtColor'\n"
     ]
    }
   ],
   "source": [
    "import numpy as np\n",
    "import cv2\n",
    "porog = 30\n",
    "path = 'video.avi'\n",
    "cap = cv2.VideoCapture(path)\n",
    "if (cap.isOpened() == False):\n",
    "    print('Ошибка')\n",
    "\n",
    "ret0, frame0 = cap.read()\n",
    "gray0 = np.array(cv2.cvtColor(frame0, cv2.COLOR_BGR2GRAY))\n",
    "kernel = np.ones((5,5),np.uint8)\n",
    "shag = 0\n",
    "font = cv2.FONT_HERSHEY_COMPLEX\n",
    "counter=0\n",
    "yaxis=500\n",
    "delta=6\n",
    "while(True):\n",
    "    if shag%2==0:\n",
    "        ret, frame = cap.read()\n",
    "        gray = np.array(cv2.cvtColor(frame,cv2.COLOR_BGR2GRAY),dtype='int16')\n",
    "        kadr = np.array(np.abs(gray - gray0), dtype='uint8')\n",
    "        kadr = cv2.dilate(kadr,kernel,iterations = 1)\n",
    "        kadr = cv2.dilate(kadr,kernel,iterations = 1)\n",
    "        kadr = cv2.erode(kadr,kernel,iterations = 1)\n",
    "        kadr = cv2.dilate(kadr,kernel,iterations = 1)\n",
    "        kadr = cv2.dilate(kadr,kernel,iterations = 1)\n",
    "        kadr = cv2.erode(kadr,kernel,iterations = 1)\n",
    "        ret,thresh =cv2.threshold(kadr,porog,250,cv2.THRESH_BINARY)\n",
    "        contours, hierarchy = cv2.findContours(thresh,cv2.RETR_EXTERNAL,cv2.CHAIN_APPROX_SIMPLE)\n",
    "        Rects = []\n",
    "        \n",
    "        startp = (0,yaxis)\n",
    "        endp = (1280,yaxis)\n",
    "        frame = cv2.line(frame, startp, endp, (255,0,0) , 3) \n",
    "        for i in range(len(contours)):\n",
    "            x, y, w, h = cv2.boundingRect(contours[i])\n",
    "            if w>40 and h>40:\n",
    "                cv2.rectangle(frame,(x,y),(x+w,y+h),(0,0,255),3)\n",
    "                if y>yaxis-delta and y<yaxis+delta:\n",
    "                    counter+=1\n",
    "                if cv2.waitKey(1) & 0xFF == ord('u'):\n",
    "                    cv2.imwrite('frames/'+str(x)+'-'+str(y) +'-'+str(w)+'-'+str(h)+'.png', frame[y:y+h,x:x+w])\n",
    "        cv2.putText(frame,'counter = ' + str(counter),(0,100),font,2,(0,0,255),3)\n",
    "        cv2.imshow('Frame', frame)\n",
    "        gray0 = np.copy(gray)\n",
    "    shag = shag + 1\n",
    "    if cv2.waitKey(1) & 0xFF == ord('q'):\n",
    "        break\n",
    "cap.release()\n",
    "cv2.destroyAllWindows()\n"
   ]
  },
  {
   "cell_type": "code",
   "execution_count": null,
   "id": "767e49c0",
   "metadata": {},
   "outputs": [],
   "source": []
  }
 ],
 "metadata": {
  "kernelspec": {
   "display_name": "Python 3 (ipykernel)",
   "language": "python",
   "name": "python3"
  },
  "language_info": {
   "codemirror_mode": {
    "name": "ipython",
    "version": 3
   },
   "file_extension": ".py",
   "mimetype": "text/x-python",
   "name": "python",
   "nbconvert_exporter": "python",
   "pygments_lexer": "ipython3",
   "version": "3.11.7"
  }
 },
 "nbformat": 4,
 "nbformat_minor": 5
}
