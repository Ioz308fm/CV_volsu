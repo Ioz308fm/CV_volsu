{
 "cells": [
  {
   "cell_type": "code",
   "execution_count": null,
   "id": "2fb8d568",
   "metadata": {},
   "outputs": [],
   "source": [
    "import numpy as np\n",
    "import cv2\n",
    "\n",
    "def nothing(args):\n",
    "    pass\n",
    "\n",
    "fn = \"p3.png\"\n",
    "img = cv2.imread(fn) # загрузка изображения\n",
    "cap=[]\n",
    "a=0\n",
    "b=10\n",
    "d=0.2\n",
    "gamma=np.arange(a,b+d,d)\n",
    "for i in range(gamma.size):\n",
    "    image = ((255.0 ** (1.0 - gamma[i])) * (img ** gamma[i])).astype(np.uint8)\n",
    "    font = cv2.FONT_HERSHEY_COMPLEX\n",
    "    text='gamma = '+str(gamma[i])\n",
    "    cv2.putText(image,text,(0,100),font,2,(0,0,255),3)  #text,coordinate,font,size of text,color,thickness of font\n",
    "    cap.append(image)\n",
    "frames = []\n",
    "i=0\n",
    "while True:\n",
    "    if (i<gamma.size-1):\n",
    "        i+=1\n",
    "    else:\n",
    "        i=0\n",
    "    frame = cap[i]\n",
    "    cv2.imshow(\"frame\", frame)\n",
    "    key = cv2.waitKey(0)\n",
    "    if key == ord(\"a\"):\n",
    "        frames.append(frame)\n",
    "    elif key == ord(\"q\"):\n",
    "        break\n",
    "cv2.destroyAllWindows()"
   ]
  },
  {
   "cell_type": "code",
   "execution_count": 2,
   "id": "2b329a7a",
   "metadata": {},
   "outputs": [
    {
     "name": "stdout",
     "output_type": "stream",
     "text": [
      "Collecting opencv-python\n",
      "  Downloading opencv_python-4.9.0.80-cp37-abi3-win_amd64.whl (38.6 MB)\n",
      "Requirement already satisfied: numpy>=1.17.3 in c:\\users\\vadim\\anaconda3\\lib\\site-packages (from opencv-python) (1.21.5)\n",
      "Installing collected packages: opencv-python\n",
      "Successfully installed opencv-python-4.9.0.80\n",
      "Note: you may need to restart the kernel to use updated packages.\n"
     ]
    }
   ],
   "source": [
    "pip install opencv-python"
   ]
  },
  {
   "cell_type": "code",
   "execution_count": 2,
   "id": "0ab4b09c",
   "metadata": {},
   "outputs": [
    {
     "name": "stdout",
     "output_type": "stream",
     "text": [
      "[29 29 29]\n"
     ]
    },
    {
     "data": {
      "text/plain": [
       "True"
      ]
     },
     "execution_count": 2,
     "metadata": {},
     "output_type": "execute_result"
    }
   ],
   "source": [
    "#ДВА\n",
    "import numpy as np\n",
    "import cv2\n",
    "\n",
    "def lin(img):\n",
    "    rmax=np.max(img)\n",
    "    rmin=np.min(img)\n",
    "    img2=(img - rmin)*255.0/(rmax - rmin)\n",
    "    img2 = np.uint8(img2)\n",
    "    return img2\n",
    "    \n",
    "#линейная коррекция\n",
    "img = cv2.imread('p2.png')\n",
    "img2=lin(img)\n",
    "print(img[228,228])\n",
    "res = np.hstack((img,img2))\n",
    "cv2.imwrite('r2.png', res)"
   ]
  },
  {
   "cell_type": "code",
   "execution_count": 3,
   "id": "cee845ed",
   "metadata": {},
   "outputs": [
    {
     "data": {
      "text/plain": [
       "113"
      ]
     },
     "execution_count": 3,
     "metadata": {},
     "output_type": "execute_result"
    }
   ],
   "source": [
    "#ОДИН\n",
    "def stat(simg, timg):\n",
    "    # Преобразование изображений в формат RGB\n",
    "    #srgb = cv2.cvtColor(simg, cv2.COLOR_BGR2RGB)\n",
    "    #trgb = cv2.cvtColor(timg, cv2.COLOR_BGR2RGB)\n",
    "    srgb=simg\n",
    "    trgb=timg\n",
    "    # Вычисление математического ожидания и среднеквадратичного отклонения для исходного изображения\n",
    "    ms = np.mean(srgb, axis=(0, 1))\n",
    "    ss = np.std(srgb, axis=(0, 1))\n",
    "\n",
    "    # Вычисление математического ожидания и среднеквадратичного отклонения для целевого изображения\n",
    "    mt = np.mean(trgb, axis=(0, 1))\n",
    "    st = np.std(trgb, axis=(0, 1))\n",
    "\n",
    "    # Преобразование каждого пикселя целевого изображения\n",
    "    img2 = (mt + (srgb - ms) * (st / ss)).clip(0, 255).astype(np.uint8)\n",
    "\n",
    "    return img2\n",
    "#статистическая\n",
    "source = cv2.imread('p14.png')\n",
    "target = cv2.imread('p12.png')\n",
    "img3= stat(source,target)\n",
    "s1=source.shape[:3]\n",
    "s2=target.shape[:3]\n",
    "h1=s1[0]\n",
    "h2=s2[0]\n",
    "w1=s1[1]\n",
    "w2=s2[1]\n",
    "if h1>h2:\n",
    "    h=h1\n",
    "else:\n",
    "    h=h2\n",
    "if w1>w2:\n",
    "    w=w1\n",
    "else:\n",
    "    w=w2\n",
    "shape=[h,w,3]\n",
    "dim=(550,360)\n",
    "ims=cv2.resize(source,dim)\n",
    "im2s=cv2.resize(target,dim)\n",
    "im3s=cv2.resize(img3,dim)\n",
    "res = np.hstack((ims,im2s,im3s))\n",
    "dim=(800,600)\n",
    "res=cv2.resize(res,dim)\n",
    "cv2.imwrite('r1.png', res)\n",
    "show = cv2.imread('r1.png')\n",
    "cv2.imshow('img', show)\n",
    "\n",
    "cv2.waitKey(0) # wait for ay key to exit window\n"
   ]
  },
  {
   "cell_type": "code",
   "execution_count": null,
   "id": "3e09e5c6",
   "metadata": {},
   "outputs": [],
   "source": [
    "#ТРИ\n",
    "import numpy as np\n",
    "import cv2\n",
    "\n",
    "def nothing(args):\n",
    "    pass\n",
    "def steppr(gamma,img):\n",
    "    image = ((255.0 ** (1.0 - gamma)) * (img ** gamma)).astype(np.uint8)\n",
    "    return image\n",
    "    \n",
    "# создаем окно для отображения результата и бегунки\n",
    "cv2.namedWindow(\"setup\")\n",
    "cv2.createTrackbar(\"T\", \"setup\", 0, 30, nothing)\n",
    "fn = \"p3.png\"\n",
    "img = cv2.imread(fn) # загрузка изображения\n",
    "while True:\n",
    "    T = cv2.getTrackbarPos('T', 'setup')\n",
    " # применяем фильтр, делаем бинаризацию\n",
    "    img_new = steppr(T/10.,img)\n",
    "    cv2.imshow('img', img_new)\n",
    "    if cv2.waitKey(33) & 0xFF == ord('q'):\n",
    "        break\n",
    "cv2.destroyAllWindows()"
   ]
  },
  {
   "cell_type": "code",
   "execution_count": 7,
   "id": "6e3827f8",
   "metadata": {},
   "outputs": [],
   "source": [
    "#ЧЕТЫРЕ\n",
    "import numpy as np\n",
    "import cv2\n",
    "\n",
    "def nothing(args):\n",
    "    pass\n",
    "def steppr(img,T,C):\n",
    "    img = img.astype(np.uint8)\n",
    "    gray_image = cv2.cvtColor(img, cv2.COLOR_BGR2GRAY)\n",
    "    gray_image=gray_image.astype(np.uint8)\n",
    "    thresholded_image = cv2.adaptiveThreshold(gray_image, 255, cv2.ADAPTIVE_THRESH_GAUSSIAN_C, cv2.THRESH_BINARY, T, C)\n",
    "    return thresholded_image\n",
    "    \n",
    "# создаем окно для отображения результата и бегунки\n",
    "cv2.namedWindow(\"setup\")\n",
    "cv2.createTrackbar(\"T\", \"setup\", 1, 30, nothing)\n",
    "cv2.createTrackbar(\"C\", \"setup\", 1, 30, nothing)\n",
    "fn = \"p4.png\"\n",
    "img = cv2.imread(fn) # загрузка изображения\n",
    "while True:\n",
    "    T = cv2.getTrackbarPos('T', 'setup')\n",
    "    C = cv2.getTrackbarPos('C', 'setup')\n",
    " # применяем фильтр, делаем бинаризацию\n",
    "    img_new = steppr(img,T*2+1,C)\n",
    "    cv2.imshow('img', img_new)\n",
    "    if cv2.waitKey(33) & 0xFF == ord('q'):\n",
    "        break\n",
    "cv2.destroyAllWindows()"
   ]
  },
  {
   "cell_type": "code",
   "execution_count": 6,
   "id": "10d24d30",
   "metadata": {},
   "outputs": [
    {
     "data": {
      "text/plain": [
       "True"
      ]
     },
     "execution_count": 6,
     "metadata": {},
     "output_type": "execute_result"
    }
   ],
   "source": [
    "#Задание адаптивный порог\n",
    "def adaptive_thresholding(image, T, C):\n",
    "    gray_image = cv2.cvtColor(image, cv2.COLOR_BGR2GRAY)\n",
    "    thresholded_image = cv2.adaptiveThreshold(gray_image, 255, cv2.ADAPTIVE_THRESH_GAUSSIAN_C, cv2.THRESH_BINARY, T, C)\n",
    "    return thresholded_image\n",
    "    \n",
    "T_value = 11\n",
    "C_value = 0\n",
    "fn = \"p3.png\"\n",
    "img = cv2.imread(fn) # загрузка изображения\n",
    "# Применение адаптивного порогового преобразования\n",
    "res = adaptive_thresholding(img, T_value, C_value)\n",
    "cv2.imwrite('r4.png', res)"
   ]
  },
  {
   "cell_type": "code",
   "execution_count": null,
   "id": "cb4d50d2",
   "metadata": {},
   "outputs": [],
   "source": []
  }
 ],
 "metadata": {
  "kernelspec": {
   "display_name": "Python 3 (ipykernel)",
   "language": "python",
   "name": "python3"
  },
  "language_info": {
   "codemirror_mode": {
    "name": "ipython",
    "version": 3
   },
   "file_extension": ".py",
   "mimetype": "text/x-python",
   "name": "python",
   "nbconvert_exporter": "python",
   "pygments_lexer": "ipython3",
   "version": "3.11.7"
  }
 },
 "nbformat": 4,
 "nbformat_minor": 5
}
